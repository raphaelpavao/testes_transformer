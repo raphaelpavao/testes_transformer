{
  "nbformat": 4,
  "nbformat_minor": 0,
  "metadata": {
    "colab": {
      "provenance": [],
      "authorship_tag": "ABX9TyN0B6KvVELxREGmc6PWXuFo",
      "include_colab_link": true
    },
    "kernelspec": {
      "name": "python3",
      "display_name": "Python 3"
    },
    "language_info": {
      "name": "python"
    }
  },
  "cells": [
    {
      "cell_type": "markdown",
      "metadata": {
        "id": "view-in-github",
        "colab_type": "text"
      },
      "source": [
        "<a href=\"https://colab.research.google.com/github/raphaelpavao/testes_transformer/blob/main/transformer.ipynb\" target=\"_parent\"><img src=\"https://colab.research.google.com/assets/colab-badge.svg\" alt=\"Open In Colab\"/></a>"
      ]
    },
    {
      "cell_type": "markdown",
      "source": [
        "Importações"
      ],
      "metadata": {
        "id": "jgJ1f54F3MhV"
      }
    },
    {
      "cell_type": "code",
      "execution_count": null,
      "metadata": {
        "id": "kfRc7jCoxezt"
      },
      "outputs": [],
      "source": [
        "import requests\n",
        "from bs4 import BeautifulSoup\n",
        "from transformers import pipeline"
      ]
    },
    {
      "cell_type": "markdown",
      "source": [
        "Extraindo, formatando salvando texto"
      ],
      "metadata": {
        "id": "-U2LVzyI3PZ1"
      }
    },
    {
      "cell_type": "code",
      "source": [
        "def extraindo_texto_da_web(url):\n",
        "    response = requests.get(url)\n",
        "    response.raise_for_status()\n",
        "    soup = BeautifulSoup(response.text, 'html.parser')\n",
        "\n",
        "    paragraphs = soup.find_all('p')\n",
        "    text = \" \".join([para.get_text() for para in paragraphs])\n",
        "    return text\n",
        "\n",
        "url = \"https://pt.wikipedia.org/wiki/Microsoft_Office\"\n",
        "\n",
        "documento = extraindo_texto_da_web(url)"
      ],
      "metadata": {
        "id": "kfXbeX0uxr_e"
      },
      "execution_count": null,
      "outputs": []
    },
    {
      "cell_type": "code",
      "source": [
        "print (documento)"
      ],
      "metadata": {
        "id": "FxnwM97EyhKx"
      },
      "execution_count": null,
      "outputs": []
    },
    {
      "cell_type": "markdown",
      "source": [
        "Testando as perguntas"
      ],
      "metadata": {
        "id": "WO7bvTe-3Y8V"
      }
    },
    {
      "cell_type": "code",
      "source": [
        "qa = pipeline(\"question-answering\")\n",
        "\n",
        "pergunta = \"Qual a última versão do Office?\"\n",
        "result = qa(question = pergunta,\n",
        "            context = documento,\n",
        "            max_length = 100)\n",
        "\n",
        "print(\"\\n\\nQual a última versão do Office?\\n\")\n",
        "print(f\"Resposta: {result['answer']}\\n\")"
      ],
      "metadata": {
        "id": "7Wcz49hIylYB"
      },
      "execution_count": null,
      "outputs": []
    },
    {
      "cell_type": "markdown",
      "source": [
        "Testando o resumo"
      ],
      "metadata": {
        "id": "3cHXtPpv3c5s"
      }
    },
    {
      "cell_type": "code",
      "source": [
        "# Criando o pipeline para sumarização\n",
        "summarizer = pipeline(\"summarization\")\n",
        "\n",
        "# Executando a sumarização\n",
        "result = summarizer(documento,\n",
        "                    max_length=100,\n",
        "                    min_length=50,\n",
        "                    do_sample=False)\n",
        "\n",
        "# Imprimindo o resultado\n",
        "print(f\"Resumo: {result[0]['summary_text']}\\n\")\n"
      ],
      "metadata": {
        "id": "3VfGTic6yqbO"
      },
      "execution_count": null,
      "outputs": []
    },
    {
      "cell_type": "markdown",
      "source": [
        "\n",
        "\n",
        "Análise de sentimento"
      ],
      "metadata": {
        "id": "WXjQFExw08gt"
      }
    },
    {
      "cell_type": "code",
      "source": [
        "analise_sentimento = pipeline(\"sentiment-analysis\")\n",
        "\n",
        "paragrafo = \"\"\"\n",
        "Eu estou muito feliz\n",
        "\"\"\"\n",
        "\n",
        "result = analise_sentimento(paragrafo)\n",
        "\n",
        "for idx, sentimento in enumerate(result):\n",
        "    print(f\"\\nFrase {idx + 1}: {sentimento}\\n\")\n",
        "\n",
        "\n"
      ],
      "metadata": {
        "id": "z7tw6qog1A41"
      },
      "execution_count": null,
      "outputs": []
    }
  ]
}